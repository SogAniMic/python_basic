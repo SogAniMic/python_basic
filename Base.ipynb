{
 "cells": [
  {
   "cell_type": "markdown",
   "id": "f1f1013c",
   "metadata": {},
   "source": [
    "# 1) Les chaines de caractères"
   ]
  },
  {
   "cell_type": "code",
   "execution_count": 21,
   "id": "496c0afd",
   "metadata": {},
   "outputs": [
    {
     "name": "stdout",
     "output_type": "stream",
     "text": [
      "Joseph\n"
     ]
    }
   ],
   "source": [
    "nom= '151515151'\n",
    "print(nom)"
   ]
  },
  {
   "cell_type": "code",
   "execution_count": 4,
   "id": "45e622e4",
   "metadata": {},
   "outputs": [
    {
     "name": "stdout",
     "output_type": "stream",
     "text": [
      "100\n"
     ]
    }
   ],
   "source": [
    "score = 100\n",
    "print(score)"
   ]
  },
  {
   "cell_type": "code",
   "execution_count": 5,
   "id": "21aa62e7",
   "metadata": {},
   "outputs": [],
   "source": [
    "# Ecrire sur plusieurs ligne\n"
   ]
  },
  {
   "cell_type": "code",
   "execution_count": 6,
   "id": "2be2fff8",
   "metadata": {},
   "outputs": [],
   "source": [
    "# Methode 1"
   ]
  },
  {
   "cell_type": "code",
   "execution_count": 7,
   "id": "e2947e99",
   "metadata": {},
   "outputs": [
    {
     "name": "stdout",
     "output_type": "stream",
     "text": [
      "Ici nous avons 2 filière : \n",
      " Informatique et telecom \n",
      " Ok ?\n"
     ]
    }
   ],
   "source": [
    "texte_1 = 'Ici nous avons 2 filière : \\n Informatique et telecom \\n Ok ?'\n",
    "print(texte_1)"
   ]
  },
  {
   "cell_type": "code",
   "execution_count": 11,
   "id": "032dd791",
   "metadata": {},
   "outputs": [],
   "source": [
    "# Méthode 2\n",
    "texte_2 = '''Ici nous avons 2 filière : Informatique et telecom Ok ? '''"
   ]
  },
  {
   "cell_type": "markdown",
   "id": "ad8fe266",
   "metadata": {},
   "source": [
    "print(texte_2)"
   ]
  },
  {
   "cell_type": "markdown",
   "id": "7fde1d58",
   "metadata": {},
   "source": [
    "# Les listes"
   ]
  },
  {
   "cell_type": "code",
   "execution_count": 12,
   "id": "26296295",
   "metadata": {},
   "outputs": [],
   "source": [
    "# les listes vides"
   ]
  },
  {
   "cell_type": "code",
   "execution_count": 13,
   "id": "93ed291c",
   "metadata": {},
   "outputs": [
    {
     "name": "stdout",
     "output_type": "stream",
     "text": [
      "[]\n"
     ]
    }
   ],
   "source": [
    "list_1 = []\n",
    "print(list_1)"
   ]
  },
  {
   "cell_type": "code",
   "execution_count": 30,
   "id": "8e14516f",
   "metadata": {},
   "outputs": [
    {
     "name": "stdout",
     "output_type": "stream",
     "text": [
      "['Regis', 'Anatole', 'Antelme']\n"
     ]
    }
   ],
   "source": [
    "# liste de trois prénom\n",
    "list_2  = ['Regis', 'Anatole' , 'Antelme']\n",
    "print(list_2)"
   ]
  },
  {
   "cell_type": "code",
   "execution_count": 31,
   "id": "d34cf66a",
   "metadata": {},
   "outputs": [
    {
     "name": "stdout",
     "output_type": "stream",
     "text": [
      "Regis\n"
     ]
    }
   ],
   "source": [
    "# Afficher le premier élément de list_2\n",
    "print(list_2[0])"
   ]
  },
  {
   "cell_type": "code",
   "execution_count": 34,
   "id": "25c21f0d",
   "metadata": {},
   "outputs": [
    {
     "name": "stdout",
     "output_type": "stream",
     "text": [
      "4\n"
     ]
    }
   ],
   "source": [
    "# afficher la taille d'une liste\n",
    "print(len(list_2))"
   ]
  },
  {
   "cell_type": "code",
   "execution_count": 33,
   "id": "a409ae27",
   "metadata": {},
   "outputs": [
    {
     "name": "stdout",
     "output_type": "stream",
     "text": [
      "['Regis', 'Anatole', 'Antelme', 'Oscar']\n"
     ]
    }
   ],
   "source": [
    "# ajouter un élément à la fin d'une liste\n",
    "list_2.append('Oscar')\n",
    "print(list_2)"
   ]
  },
  {
   "cell_type": "code",
   "execution_count": 37,
   "id": "5b74a888",
   "metadata": {},
   "outputs": [
    {
     "name": "stdout",
     "output_type": "stream",
     "text": [
      "['Gaston', 'Regis', 'Anatole', 'Antelme', 'Oscar']\n",
      "['Gaston', 'Regis', 'Jonas', 'Anatole', 'Antelme', 'Oscar']\n"
     ]
    }
   ],
   "source": [
    "# ajouter un élément suivant la position\n",
    "list_2.insert(0,'Gaston')\n",
    "print(list_2)\n",
    "list_2.insert(2,'Jonas')\n",
    "print(list_2)"
   ]
  },
  {
   "cell_type": "markdown",
   "id": "7b996e3b",
   "metadata": {},
   "source": [
    "# Les fonctions"
   ]
  },
  {
   "cell_type": "code",
   "execution_count": 38,
   "id": "2815c0a0",
   "metadata": {},
   "outputs": [
    {
     "name": "stdout",
     "output_type": "stream",
     "text": [
      "je suis au cours\n"
     ]
    }
   ],
   "source": [
    "def maFonction() :\n",
    "    print('je suis au cours')\n",
    "    \n",
    "    \n",
    "# exécution\n",
    "\n",
    "maFonction()"
   ]
  },
  {
   "cell_type": "markdown",
   "id": "c125c926",
   "metadata": {},
   "source": [
    "# Structure de controles (les boucles)\n",
    "\n"
   ]
  },
  {
   "cell_type": "code",
   "execution_count": 41,
   "id": "bfd8ae58",
   "metadata": {},
   "outputs": [
    {
     "name": "stdout",
     "output_type": "stream",
     "text": [
      "2\n",
      "3\n",
      "4\n",
      "5\n",
      "6\n",
      "7\n",
      "8\n",
      "9\n",
      "10\n",
      "11\n",
      "12\n",
      "13\n",
      "14\n",
      "15\n",
      "16\n",
      "17\n",
      "18\n",
      "19\n",
      "20\n",
      "21\n"
     ]
    }
   ],
   "source": [
    "# la boucle for\n",
    "\n",
    "def ajout() :\n",
    "    for i in range(0,20):\n",
    "        print(i+2)\n",
    "        \n",
    "        \n",
    "# exécution de la fonction\n",
    "\n",
    "ajout()"
   ]
  },
  {
   "cell_type": "code",
   "execution_count": 43,
   "id": "5b529bc7",
   "metadata": {},
   "outputs": [
    {
     "name": "stdout",
     "output_type": "stream",
     "text": [
      "4 x 0=0\n",
      "4 x 1=4\n",
      "4 x 2=8\n",
      "4 x 3=12\n",
      "4 x 4=16\n",
      "4 x 5=20\n",
      "4 x 6=24\n",
      "4 x 7=28\n",
      "4 x 8=32\n",
      "4 x 9=36\n",
      "4 x 10=40\n",
      "4 x 11=44\n",
      "4 x 12=48\n"
     ]
    }
   ],
   "source": [
    "def table4() :\n",
    "    for a in range (0,13):\n",
    "        calcul = 4 * a\n",
    "        print('4 x ' + str(a) + '=' + str (calcul) )\n",
    "        \n",
    "# exécution\n",
    "table4()"
   ]
  },
  {
   "cell_type": "markdown",
   "id": "09845950",
   "metadata": {},
   "source": [
    "# Les dictionnaires python\n"
   ]
  },
  {
   "cell_type": "code",
   "execution_count": 2,
   "id": "68480b34",
   "metadata": {},
   "outputs": [
    {
     "name": "stdout",
     "output_type": "stream",
     "text": [
      "[{'nom': 'Tony', 'ecole': 'Faucon', 'niveau': 'CM1'}, {'nom': 'Toto', 'ecole': 'les genies', 'niveau': 'CP'}, {'nom': 'Patou', 'ecole': 'Academy', 'niveau': 'CM1'}, {'nom': 'Koffi', 'ecole': 'Faucon', 'niveau': 'CE2'}, {'nom': 'Léo', 'ecole': 'Academy', 'niveau': 'CP'}, {'nom': 'Les genies', 'ecole': 'les genies', 'niveau': 'CE'}, {'nom': 'Patrice', 'ecole': 'Faucon', 'niveau': 'CM1'}]\n"
     ]
    }
   ],
   "source": [
    "list_dict = []\n",
    "\n",
    "dico = {'nom' : 'Tony' , 'ecole' : 'Faucon' , 'niveau' : 'CM1'}\n",
    "\n",
    "list_dict.append(dico)\n",
    "\n",
    "dico = {'nom' : 'Toto' , 'ecole' : 'les genies' , 'niveau' : 'CP'}\n",
    "\n",
    "list_dict.append(dico)\n",
    "\n",
    "dico = {'nom' : 'Patou' , 'ecole' : 'Academy' , 'niveau' : 'CM1'}\n",
    "\n",
    "list_dict.append(dico)\n",
    "\n",
    "dico = {'nom' : 'Koffi' , 'ecole' : 'Faucon' , 'niveau' : 'CE2'}\n",
    "\n",
    "list_dict.append(dico)\n",
    "\n",
    "dico = {'nom' : 'Léo' , 'ecole' : 'Academy' , 'niveau' : 'CP'}\n",
    "\n",
    "list_dict.append(dico)\n",
    "\n",
    "dico = {'nom' : 'Les genies' , 'ecole' : 'les genies' , 'niveau' : 'CE'}\n",
    "\n",
    "list_dict.append(dico)\n",
    "\n",
    "dico = {'nom' : 'Patrice' , 'ecole' : 'Faucon' , 'niveau' : 'CM1'}\n",
    "\n",
    "list_dict.append(dico)\n",
    "\n",
    "\n",
    "print (list_dict)"
   ]
  },
  {
   "cell_type": "code",
   "execution_count": 13,
   "id": "1a243c92",
   "metadata": {},
   "outputs": [
    {
     "name": "stdout",
     "output_type": "stream",
     "text": [
      "Tony\n",
      "Patrice\n"
     ]
    }
   ],
   "source": [
    "def eleveCM1 () :\n",
    "    \n",
    "    for k in list_dict :\n",
    "        \n",
    "        if k[\"ecole\"]==\"Faucon\" and k[\"niveau\"] == \"CM1\":\n",
    "            \n",
    "            print(k[\"nom\"])\n",
    "            \n",
    "            \n",
    "eleveCM1()"
   ]
  },
  {
   "cell_type": "code",
   "execution_count": null,
   "id": "e102f7f0",
   "metadata": {},
   "outputs": [],
   "source": []
  },
  {
   "cell_type": "markdown",
   "id": "bcf0696b",
   "metadata": {},
   "source": [
    "\n",
    "\n",
    "# Classe\n",
    "\n",
    "### Attribut\n"
   ]
  },
  {
   "cell_type": "markdown",
   "id": "2742fc69",
   "metadata": {},
   "source": [
    "\n",
    "\n",
    "\n",
    "\n",
    "\n",
    "classe avec attribut static\n",
    "\n",
    "class Personne :\n",
    "    \n",
    "    def __init__(self) :\n",
    "        self.nom = 'Dupont'\n",
    "        self.prenom = 'Rogers'\n",
    "        self.age = 31\n",
    "        self.ville = 'Calavi'"
   ]
  },
  {
   "cell_type": "raw",
   "id": "81df3e87",
   "metadata": {},
   "source": [
    "Définition :\n",
    "\n",
    "On peut créer un exemplaire de la classe personne et la stocké dans une variable. Cette variable porte désormais le nom d'objet"
   ]
  },
  {
   "cell_type": "code",
   "execution_count": 16,
   "id": "2af0c048",
   "metadata": {},
   "outputs": [],
   "source": [
    "eleve = Personne()"
   ]
  },
  {
   "cell_type": "code",
   "execution_count": 17,
   "id": "bfd6c8a6",
   "metadata": {},
   "outputs": [
    {
     "name": "stdout",
     "output_type": "stream",
     "text": [
      "Dupont Rogers 31 Calavi\n"
     ]
    }
   ],
   "source": [
    "print (eleve.nom, eleve.prenom, eleve.age, eleve.ville)"
   ]
  },
  {
   "cell_type": "raw",
   "id": "b273f53a",
   "metadata": {},
   "source": [
    "classe avec attribut variable\n",
    "\n",
    "class Individu :\n",
    "    def __init__(self, nom, prenom) :\n",
    "        self.nom = nom\n",
    "        self.prenom = prenom"
   ]
  },
  {
   "cell_type": "code",
   "execution_count": 19,
   "id": "1d4e7774",
   "metadata": {},
   "outputs": [
    {
     "name": "stdout",
     "output_type": "stream",
     "text": [
      "Bako Roger\n"
     ]
    }
   ],
   "source": [
    "etudiant = Individu (nom = 'Bako' , prenom = 'Roger')\n",
    "\n",
    "print (etudiant.nom, etudiant.prenom)"
   ]
  },
  {
   "cell_type": "markdown",
   "id": "701c7789",
   "metadata": {},
   "source": [
    "### Méthode \n"
   ]
  },
  {
   "cell_type": "code",
   "execution_count": 21,
   "id": "6e90395d",
   "metadata": {},
   "outputs": [],
   "source": [
    "class Vecteur :\n",
    "    \n",
    "    def __init__(self, x ,y) :\n",
    "        \n",
    "        self.x = x \n",
    "        self.y = y\n",
    "        \n",
    "        \n",
    "    def somme (self) :\n",
    "        \n",
    "        calcul = self.x + self.y \n",
    "        \n",
    "        return calcul"
   ]
  },
  {
   "cell_type": "code",
   "execution_count": 24,
   "id": "0205a7bf",
   "metadata": {},
   "outputs": [],
   "source": [
    "# creation de l'objet vecteur\n",
    "\n",
    "u = Vecteur(x = 1 , y=-1 )"
   ]
  },
  {
   "cell_type": "code",
   "execution_count": 25,
   "id": "eac47bbb",
   "metadata": {},
   "outputs": [
    {
     "name": "stdout",
     "output_type": "stream",
     "text": [
      "0\n"
     ]
    }
   ],
   "source": [
    "print(u.somme())"
   ]
  },
  {
   "cell_type": "code",
   "execution_count": 29,
   "id": "63a5be7b",
   "metadata": {},
   "outputs": [
    {
     "name": "stdout",
     "output_type": "stream",
     "text": [
      "42\n",
      "[1 2 3 4 5]\n",
      "[[1 2 5]\n",
      " [3 5 7]\n",
      " [8 5 6]]\n",
      "[[[1 2 3]\n",
      "  [4 5 6]]\n",
      "\n",
      " [[7 5 3]\n",
      "  [4 5 9]]]\n"
     ]
    }
   ],
   "source": [
    "\n",
    "import numpy as np\n",
    "\n",
    "\n",
    "\n",
    "# creation de nombre ou tableau de dimension 0 \n",
    "\n",
    "arr = np.array(42)\n",
    "\n",
    "\n",
    "print(arr)\n",
    "\n",
    "# creation de nombre ou tableau de dimension 1\n",
    "# contient des tableau de dimension 0\n",
    "\n",
    "arr = np.array ([1,2,3,4,5])\n",
    "\n",
    "print(arr)\n",
    "\n",
    "\n",
    "# créer un dimension 2 \n",
    "# contient des tableaux de dimensions 1\n",
    "\n",
    "arr = np.array ([\n",
    "    [1,2,5],\n",
    "    [3,5,7],\n",
    "    [8,5,6]\n",
    "])\n",
    "\n",
    "\n",
    "print(arr)\n",
    "\n",
    "# créer un tableau de dimension 3\n",
    "\n",
    "\n",
    "arr = np.array ([\n",
    "    [\n",
    "        [1,2,3],\n",
    "        \n",
    "        [4,5,6]\n",
    "    ],\n",
    "    \n",
    "    [\n",
    "        [7,5,3],\n",
    "        \n",
    "        [4,5,9]\n",
    "    ],\n",
    "])\n",
    "\n",
    "\n",
    "print(arr)\n",
    "\n",
    "\n"
   ]
  },
  {
   "cell_type": "code",
   "execution_count": 30,
   "id": "9f53879a",
   "metadata": {},
   "outputs": [
    {
     "data": {
      "text/plain": [
       "3"
      ]
     },
     "execution_count": 30,
     "metadata": {},
     "output_type": "execute_result"
    }
   ],
   "source": [
    "# dimenesions d'un table\n",
    "\n",
    "arr.ndim"
   ]
  },
  {
   "cell_type": "code",
   "execution_count": 31,
   "id": "ab35641c",
   "metadata": {},
   "outputs": [
    {
     "name": "stdout",
     "output_type": "stream",
     "text": [
      "43\n"
     ]
    }
   ],
   "source": [
    "# indexation\n",
    "\n",
    "# accéder aux éléments d'un tableau\n",
    "\n",
    "arr = np.array([43,22,1,10])\n",
    "\n",
    "print(arr[0])"
   ]
  },
  {
   "cell_type": "code",
   "execution_count": null,
   "id": "5269c142",
   "metadata": {},
   "outputs": [],
   "source": []
  }
 ],
 "metadata": {
  "kernelspec": {
   "display_name": "Python 3 (ipykernel)",
   "language": "python",
   "name": "python3"
  },
  "language_info": {
   "codemirror_mode": {
    "name": "ipython",
    "version": 3
   },
   "file_extension": ".py",
   "mimetype": "text/x-python",
   "name": "python",
   "nbconvert_exporter": "python",
   "pygments_lexer": "ipython3",
   "version": "3.9.13"
  }
 },
 "nbformat": 4,
 "nbformat_minor": 5
}
